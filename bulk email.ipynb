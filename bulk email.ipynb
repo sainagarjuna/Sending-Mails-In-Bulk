{
 "cells": [
  {
   "cell_type": "code",
   "execution_count": 1,
   "id": "2417266f",
   "metadata": {},
   "outputs": [
    {
     "name": "stdout",
     "output_type": "stream",
     "text": [
      "Note: you may need to restart the kernel to use updated packages.\n"
     ]
    },
    {
     "name": "stderr",
     "output_type": "stream",
     "text": [
      "ERROR: Could not find a version that satisfies the requirement smtplib\n",
      "ERROR: No matching distribution found for smtplib\n"
     ]
    }
   ],
   "source": [
    "pip install smtplib"
   ]
  },
  {
   "cell_type": "code",
   "execution_count": 8,
   "id": "d9af07ab",
   "metadata": {},
   "outputs": [
    {
     "name": "stdout",
     "output_type": "stream",
     "text": [
      "send mail\n"
     ]
    },
    {
     "data": {
      "text/plain": [
       "(221,\n",
       " b'2.0.0 closing connection h16-20020a170902f55000b001754064ac31sm3703544plf.280 - gsmtp')"
      ]
     },
     "execution_count": 8,
     "metadata": {},
     "output_type": "execute_result"
    }
   ],
   "source": [
    "#import smtplib as s\n",
    "\n",
    "'''ob=s.SMTP('smtp.gmail.com',587)\n",
    "ob.ehlo()\n",
    "ob.starttls()\n",
    "ob.login('20951A0596@iare.ac.in','password')\n",
    "subject=\"hi!\"\n",
    "body=\"hey! how are you?\"\n",
    "message=\"subject:{}\\n\\n{}\".format(subject,body)\n",
    "listadd=['20951A0568@iare.ac.in']\n",
    "ob.sendmail('20951A0596@iare.ac.in',listadd,message)\n",
    "print(\"send mail\")\n",
    "ob.quit()'''"
   ]
  },
  {
   "cell_type": "code",
   "execution_count": 1,
   "id": "1391a2dd",
   "metadata": {},
   "outputs": [
    {
     "ename": "SMTPResponseException",
     "evalue": "(334, b'UGFzc3dvcmQ6')",
     "output_type": "error",
     "traceback": [
      "\u001b[1;31m---------------------------------------------------------------------------\u001b[0m",
      "\u001b[1;31mAttributeError\u001b[0m                            Traceback (most recent call last)",
      "\u001b[1;32m<ipython-input-1-9b9eef63ab23>\u001b[0m in \u001b[0;36m<module>\u001b[1;34m\u001b[0m\n\u001b[0;32m     11\u001b[0m \u001b[1;33m\u001b[0m\u001b[0m\n\u001b[1;32m---> 12\u001b[1;33m     \u001b[0mt\u001b[0m\u001b[1;33m.\u001b[0m\u001b[0mlogin\u001b[0m\u001b[1;33m(\u001b[0m\u001b[0memail_address\u001b[0m\u001b[1;33m,\u001b[0m\u001b[0memail_pass\u001b[0m\u001b[1;33m)\u001b[0m\u001b[1;33m\u001b[0m\u001b[1;33m\u001b[0m\u001b[0m\n\u001b[0m\u001b[0;32m     13\u001b[0m     \u001b[0msubject\u001b[0m\u001b[1;33m=\u001b[0m\u001b[1;34m\"Greeting\"\u001b[0m\u001b[1;33m\u001b[0m\u001b[1;33m\u001b[0m\u001b[0m\n",
      "\u001b[1;32m~\\anaconda3\\lib\\smtplib.py\u001b[0m in \u001b[0;36mlogin\u001b[1;34m(self, user, password, initial_response_ok)\u001b[0m\n\u001b[0;32m    720\u001b[0m             \u001b[1;32mtry\u001b[0m\u001b[1;33m:\u001b[0m\u001b[1;33m\u001b[0m\u001b[1;33m\u001b[0m\u001b[0m\n\u001b[1;32m--> 721\u001b[1;33m                 (code, resp) = self.auth(\n\u001b[0m\u001b[0;32m    722\u001b[0m                     \u001b[0mauthmethod\u001b[0m\u001b[1;33m,\u001b[0m \u001b[0mgetattr\u001b[0m\u001b[1;33m(\u001b[0m\u001b[0mself\u001b[0m\u001b[1;33m,\u001b[0m \u001b[0mmethod_name\u001b[0m\u001b[1;33m)\u001b[0m\u001b[1;33m,\u001b[0m\u001b[1;33m\u001b[0m\u001b[1;33m\u001b[0m\u001b[0m\n",
      "\u001b[1;32m~\\anaconda3\\lib\\smtplib.py\u001b[0m in \u001b[0;36mauth\u001b[1;34m(self, mechanism, authobject, initial_response_ok)\u001b[0m\n\u001b[0;32m    639\u001b[0m             response = encode_base64(\n\u001b[1;32m--> 640\u001b[1;33m                 authobject(challenge).encode('ascii'), eol='')\n\u001b[0m\u001b[0;32m    641\u001b[0m             \u001b[1;33m(\u001b[0m\u001b[0mcode\u001b[0m\u001b[1;33m,\u001b[0m \u001b[0mresp\u001b[0m\u001b[1;33m)\u001b[0m \u001b[1;33m=\u001b[0m \u001b[0mself\u001b[0m\u001b[1;33m.\u001b[0m\u001b[0mdocmd\u001b[0m\u001b[1;33m(\u001b[0m\u001b[0mresponse\u001b[0m\u001b[1;33m)\u001b[0m\u001b[1;33m\u001b[0m\u001b[1;33m\u001b[0m\u001b[0m\n",
      "\u001b[1;31mAttributeError\u001b[0m: 'NoneType' object has no attribute 'encode'",
      "\nDuring handling of the above exception, another exception occurred:\n",
      "\u001b[1;31mSMTPResponseException\u001b[0m                     Traceback (most recent call last)",
      "\u001b[1;32m<ipython-input-1-9b9eef63ab23>\u001b[0m in \u001b[0;36m<module>\u001b[1;34m\u001b[0m\n\u001b[0;32m     14\u001b[0m     \u001b[0mbody\u001b[0m\u001b[1;33m=\u001b[0m\u001b[1;34m\"hello! jyoshna\"\u001b[0m\u001b[1;33m\u001b[0m\u001b[1;33m\u001b[0m\u001b[0m\n\u001b[0;32m     15\u001b[0m     \u001b[0mmsg\u001b[0m\u001b[1;33m=\u001b[0m\u001b[1;34mf'subject:{subject}\\n\\n {body}'\u001b[0m\u001b[1;33m\u001b[0m\u001b[1;33m\u001b[0m\u001b[0m\n\u001b[1;32m---> 16\u001b[1;33m     \u001b[0mt\u001b[0m\u001b[1;33m.\u001b[0m\u001b[0msendmail\u001b[0m\u001b[1;33m(\u001b[0m\u001b[0memail_address\u001b[0m\u001b[1;33m,\u001b[0m\u001b[1;34m'20951A0568@iare.ac.in'\u001b[0m\u001b[1;33m,\u001b[0m\u001b[0mmsg\u001b[0m\u001b[1;33m)\u001b[0m\u001b[1;33m\u001b[0m\u001b[1;33m\u001b[0m\u001b[0m\n\u001b[0m\u001b[0;32m     17\u001b[0m \u001b[1;33m\u001b[0m\u001b[0m\n\u001b[0;32m     18\u001b[0m \u001b[1;33m\u001b[0m\u001b[0m\n",
      "\u001b[1;32m~\\anaconda3\\lib\\smtplib.py\u001b[0m in \u001b[0;36m__exit__\u001b[1;34m(self, *args)\u001b[0m\n\u001b[0;32m    280\u001b[0m             \u001b[0mcode\u001b[0m\u001b[1;33m,\u001b[0m \u001b[0mmessage\u001b[0m \u001b[1;33m=\u001b[0m \u001b[0mself\u001b[0m\u001b[1;33m.\u001b[0m\u001b[0mdocmd\u001b[0m\u001b[1;33m(\u001b[0m\u001b[1;34m\"QUIT\"\u001b[0m\u001b[1;33m)\u001b[0m\u001b[1;33m\u001b[0m\u001b[1;33m\u001b[0m\u001b[0m\n\u001b[0;32m    281\u001b[0m             \u001b[1;32mif\u001b[0m \u001b[0mcode\u001b[0m \u001b[1;33m!=\u001b[0m \u001b[1;36m221\u001b[0m\u001b[1;33m:\u001b[0m\u001b[1;33m\u001b[0m\u001b[1;33m\u001b[0m\u001b[0m\n\u001b[1;32m--> 282\u001b[1;33m                 \u001b[1;32mraise\u001b[0m \u001b[0mSMTPResponseException\u001b[0m\u001b[1;33m(\u001b[0m\u001b[0mcode\u001b[0m\u001b[1;33m,\u001b[0m \u001b[0mmessage\u001b[0m\u001b[1;33m)\u001b[0m\u001b[1;33m\u001b[0m\u001b[1;33m\u001b[0m\u001b[0m\n\u001b[0m\u001b[0;32m    283\u001b[0m         \u001b[1;32mexcept\u001b[0m \u001b[0mSMTPServerDisconnected\u001b[0m\u001b[1;33m:\u001b[0m\u001b[1;33m\u001b[0m\u001b[1;33m\u001b[0m\u001b[0m\n\u001b[0;32m    284\u001b[0m             \u001b[1;32mpass\u001b[0m\u001b[1;33m\u001b[0m\u001b[1;33m\u001b[0m\u001b[0m\n",
      "\u001b[1;31mSMTPResponseException\u001b[0m: (334, b'UGFzc3dvcmQ6')"
     ]
    }
   ],
   "source": [
    "'''import os\n",
    "import smtplib\n",
    "\n",
    "email_address= os.environ.get('EMAIL_USER')\n",
    "email_pass= os.environ.get('EMAIL_PASS')\n",
    "\n",
    "with smtplib.SMTP('smtp.gmail.com',587) as t:\n",
    "    t.ehlo()\n",
    "    t.starttls()\n",
    "    t.ehlo()\n",
    "    \n",
    "    t.login(email_address,email_pass)\n",
    "    subject=\"Greeting\"\n",
    "    body=\"hello! jyoshna\"\n",
    "    msg=f'subject:{subject}\\n\\n {body}'\n",
    "    t.sendmail(email_address,'20951A0568@iare.ac.in',msg)'''\n",
    "    \n",
    "    "
   ]
  },
  {
   "cell_type": "code",
   "execution_count": 2,
   "id": "c679e20b",
   "metadata": {},
   "outputs": [
    {
     "name": "stdout",
     "output_type": "stream",
     "text": [
      "Note: you may need to restart the kernel to use updated packages.\n"
     ]
    },
    {
     "name": "stderr",
     "output_type": "stream",
     "text": [
      "ERROR: Could not find a version that satisfies the requirement os\n",
      "ERROR: No matching distribution found for os\n"
     ]
    }
   ],
   "source": [
    "pip install os"
   ]
  },
  {
   "cell_type": "code",
   "execution_count": 4,
   "id": "74ef60d1",
   "metadata": {},
   "outputs": [],
   "source": [
    "import os\n",
    "import smtplib\n",
    "from email.message import EmailMessage\n",
    "import imghdr\n",
    "\n",
    "email_address= os.environ.get('EMAIL_ADDRESS')\n",
    "email_pass= os.environ.get('EMAIL_PASS')\n",
    "\n",
    "contacts=['20951A0568@iare.ac.in','21955A0504@iare.ac.in'] # specify all the emails.\n",
    "\n",
    "msg=EmailMessage()\n",
    "msg['Subject']='this is you!'\n",
    "msg['From']=email_address\n",
    "msg['To']=','.join(contacts) # for multiple user send pupose(even for single also)\n",
    "msg.set_content('Memories') # description\n",
    "#msg.add_alternative(\"entire html code here\",subtype='html') \n",
    "\n",
    "\n",
    "#file_resource='E:\\\\sai folder\\\\sai photo.jpg'\n",
    "#files=['E:\\\\sai folder\\\\sai photo.jpg','E:\\\\sai folder\\\\image1.jfif']  --- for multiple images to send\n",
    "#files=['E:\\\\sai folder\\\\aadhar.pdf']   ---- for pdf document\n",
    "'''for file in files:\n",
    "    with open(file_resource,'rb') as f:                             # for multiple images/pdf to send, use a loop\n",
    "    file_data=f.read()\n",
    "    file_type=imghdr.what(f.name) # for pdf this is not required\n",
    "    file_name=f.name\n",
    "    '''\n",
    "\n",
    "    #msg.add_attachment(file_data, maintype='image', subtype=file_type, filename=file_name)\n",
    "    #msg.add_attachment(file_data, maintype='application', subtype='octet-stream', filename=file_name)\n",
    "\n",
    "msg.add_attachment(file_data, maintype='image', subtype=file_type, filename=file_name)   # for a single image\n",
    "#msg.add_attachment(file_data, maintype='application', subtype='octet-stream', filename=file_name)   # for a single pdf\n",
    "#msg.add_attachment(file_data, maintype='textdocument', subtype='octet-stream', filename=file_name)  # for text, but not sure\n",
    "\n",
    "with smtplib.SMTP_SSL('smtp.gmail.com',465) as t:\n",
    "    t.login(email_address,email_pass)\n",
    "    t.send_message(msg)\n",
    "    "
   ]
  },
  {
   "cell_type": "code",
   "execution_count": null,
   "id": "a077ddd9",
   "metadata": {},
   "outputs": [],
   "source": []
  }
 ],
 "metadata": {
  "kernelspec": {
   "display_name": "Python 3",
   "language": "python",
   "name": "python3"
  },
  "language_info": {
   "codemirror_mode": {
    "name": "ipython",
    "version": 3
   },
   "file_extension": ".py",
   "mimetype": "text/x-python",
   "name": "python",
   "nbconvert_exporter": "python",
   "pygments_lexer": "ipython3",
   "version": "3.8.8"
  }
 },
 "nbformat": 4,
 "nbformat_minor": 5
}
